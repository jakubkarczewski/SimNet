{
 "cells": [
  {
   "cell_type": "code",
   "execution_count": 55,
   "metadata": {},
   "outputs": [],
   "source": [
    "import pickle\n",
    "from os.path import join\n",
    "import os\n",
    "import re\n",
    "from collections import defaultdict\n",
    "\n",
    "import matplotlib.pyplot as plt\n",
    "import numpy as np\n",
    "import pandas as pd\n",
    "from scipy.ndimage.filters import gaussian_filter1d\n",
    "from sklearn.linear_model import LinearRegression"
   ]
  },
  {
   "cell_type": "code",
   "execution_count": 56,
   "metadata": {},
   "outputs": [],
   "source": [
    "PL = True"
   ]
  },
  {
   "cell_type": "code",
   "execution_count": 57,
   "metadata": {},
   "outputs": [],
   "source": [
    "data_dir = 'results'"
   ]
  },
  {
   "cell_type": "code",
   "execution_count": 58,
   "metadata": {},
   "outputs": [
    {
     "data": {
      "text/plain": [
       "['results/pairs:50-bits:512.pkl',\n",
       " 'results/pairs:50-bits:16.pkl',\n",
       " 'results/pairs:50-bits:64.pkl',\n",
       " 'results/pairs:50-bits:32.pkl',\n",
       " 'results/pairs:50-bits:256.pkl',\n",
       " 'results/pairs:50-bits:128.pkl']"
      ]
     },
     "execution_count": 58,
     "metadata": {},
     "output_type": "execute_result"
    }
   ],
   "source": [
    "# get all pickled results\n",
    "paths = [join(data_dir, path) for path in os.listdir(data_dir) if 'all' not in path]\n",
    "paths"
   ]
  },
  {
   "cell_type": "code",
   "execution_count": 59,
   "metadata": {},
   "outputs": [
    {
     "data": {
      "text/plain": [
       "{'num_bits': 512,\n",
       " 'neural': {'num_pairs': 50, 'mae': 0.09521008608232502},\n",
       " 'minhash': {'mae': 0.15530872937163756}}"
      ]
     },
     "execution_count": 59,
     "metadata": {},
     "output_type": "execute_result"
    }
   ],
   "source": [
    "with open(paths[0], 'rb') as f:\n",
    "    x = pickle.load(f)\n",
    "x"
   ]
  },
  {
   "cell_type": "code",
   "execution_count": 60,
   "metadata": {},
   "outputs": [],
   "source": [
    "# we need a dict with pairs then bit errors in net and sim\n",
    "result = defaultdict(lambda: dict())"
   ]
  },
  {
   "cell_type": "code",
   "execution_count": 61,
   "metadata": {},
   "outputs": [],
   "source": [
    "for filename in paths:\n",
    "    pairs, bits = re.findall('\\d+', filename)\n",
    "    \n",
    "    with open(filename, 'rb') as f:\n",
    "        data = pickle.load(f)\n",
    "    \n",
    "    result[pairs][bits] = {\n",
    "        'neural_mae': data['neural']['mae'],\n",
    "#         'neural_acc': data['neural']['acc_test'],\n",
    "        'minhash_mae': data['minhash']['mae']\n",
    "    }\n"
   ]
  },
  {
   "cell_type": "code",
   "execution_count": 62,
   "metadata": {},
   "outputs": [],
   "source": [
    "result = dict(result)"
   ]
  },
  {
   "cell_type": "code",
   "execution_count": 63,
   "metadata": {},
   "outputs": [],
   "source": [
    "def plot_results(data, num_pairs, smooth=False):\n",
    "\n",
    "    x = sorted(data.keys(), key=int)\n",
    "    \n",
    "    plt.figure(int(num_pairs)+1)\n",
    "    mae_minhash = [data[num_bit]['minhash_mae'] for num_bit in x]\n",
    "    mae_neural = [data[num_bit]['neural_mae'] for num_bit in x]\n",
    "    \n",
    "    if smooth:\n",
    "        # smooth neural net curve\n",
    "        start, stop = mae_neural[0],  mae_neural[-1]\n",
    "        mae_neural = gaussian_filter1d(mae_neural, sigma=1).tolist()\n",
    "        mae_neural[0] = start\n",
    "        mae_neural[-1] = stop\n",
    "\n",
    "    plt.plot(x, mae_minhash, label='WeightedMinhash' if PL else 'WeightedMinhash hashes')\n",
    "    plt.plot(x, mae_neural, label='Proponowany model'if PL else 'Model hashes')\n",
    "    \n",
    "    plt.title('Średni błąd bezwględny' if PL else 'MAE')\n",
    "    plt.xlabel('Długość skrótu' if PL else 'Number of bits')\n",
    "    plt.ylabel('Błąd' if PL else 'MAE in similarity')\n",
    "    plt.legend(loc='upper right')\n",
    "    plt.savefig('minhash_neural_curve.png')\n",
    "    \n",
    "    plt.show()\n",
    "    "
   ]
  },
  {
   "cell_type": "code",
   "execution_count": 65,
   "metadata": {},
   "outputs": [],
   "source": [
    "min_val = {\n",
    "    'mae_neural': {'val': 1, 'num_bit': None, 'num_pairs': None},\n",
    "    'mae_minhash': {'val': 1, 'num_bit': None, 'num_pairs': None}\n",
    "}"
   ]
  },
  {
   "cell_type": "code",
   "execution_count": 66,
   "metadata": {},
   "outputs": [],
   "source": [
    "for num_pairs in result.keys():\n",
    "    for num_bit in result[num_pairs].keys():\n",
    "        if result[num_pairs][num_bit]['neural_mae'] < min_val['mae_neural']['val']:\n",
    "            min_val['mae_neural']['val'] = result[num_pairs][num_bit]['neural_mae']\n",
    "            min_val['mae_neural']['num_bit'] = num_bit\n",
    "            min_val['mae_neural']['num_pairs'] = num_pairs\n",
    "        \n",
    "        if result[num_pairs][num_bit]['minhash_mae'] < min_val['mae_minhash']['val']:\n",
    "            min_val['mae_minhash']['val'] = result[num_pairs][num_bit]['minhash_mae']\n",
    "            min_val['mae_minhash']['num_bit'] = num_bit\n",
    "            min_val['mae_minhash']['num_pairs'] = num_pairs"
   ]
  },
  {
   "cell_type": "code",
   "execution_count": 67,
   "metadata": {},
   "outputs": [
    {
     "data": {
      "text/plain": [
       "{'mae_neural': {'val': 0.09521008608232502,\n",
       "  'num_bit': '512',\n",
       "  'num_pairs': '50'},\n",
       " 'mae_minhash': {'val': 0.0922599074456157,\n",
       "  'num_bit': '32',\n",
       "  'num_pairs': '50'}}"
      ]
     },
     "execution_count": 67,
     "metadata": {},
     "output_type": "execute_result"
    }
   ],
   "source": [
    "min_val"
   ]
  },
  {
   "cell_type": "code",
   "execution_count": 68,
   "metadata": {},
   "outputs": [
    {
     "data": {
      "image/png": "[encoded data removed]",
      "text/plain": [
       "<Figure size 432x288 with 1 Axes>"
      ]
     },
     "metadata": {
      "needs_background": "light"
     },
     "output_type": "display_data"
    }
   ],
   "source": [
    "plot_results(result['50'], 50)"
   ]
  },
  {
   "cell_type": "code",
   "execution_count": 38,
   "metadata": {},
   "outputs": [
    {
     "data": {
      "text/plain": [
       "{'neural_mae': 0.17022837199300694, 'minhash_mae': 0.0922599074456157}"
      ]
     },
     "execution_count": 38,
     "metadata": {},
     "output_type": "execute_result"
    }
   ],
   "source": [
    "result['50']['32']"
   ]
  },
  {
   "cell_type": "code",
   "execution_count": 39,
   "metadata": {},
   "outputs": [
    {
     "data": {
      "text/plain": [
       "{'neural_mae': 0.09521008608232502, 'minhash_mae': 0.15530872937163756}"
      ]
     },
     "execution_count": 39,
     "metadata": {},
     "output_type": "execute_result"
    }
   ],
   "source": [
    "result['50']['512']"
   ]
  },
  {
   "cell_type": "code",
   "execution_count": null,
   "metadata": {},
   "outputs": [],
   "source": []
  },
  {
   "cell_type": "code",
   "execution_count": null,
   "metadata": {},
   "outputs": [],
   "source": []
  }
 ],
 "metadata": {
  "kernelspec": {
   "display_name": "Python 3",
   "language": "python",
   "name": "python3"
  },
  "language_info": {
   "codemirror_mode": {
    "name": "ipython",
    "version": 3
   },
   "file_extension": ".py",
   "mimetype": "text/x-python",
   "name": "python",
   "nbconvert_exporter": "python",
   "pygments_lexer": "ipython3",
   "version": "3.6.7"
  }
 },
 "nbformat": 4,
 "nbformat_minor": 2
}
