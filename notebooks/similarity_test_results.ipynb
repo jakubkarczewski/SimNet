{
 "cells": [
  {
   "cell_type": "code",
   "execution_count": 68,
   "metadata": {},
   "outputs": [],
   "source": [
    "import pickle\n",
    "from os.path import join\n",
    "import os\n",
    "import re\n",
    "from collections import defaultdict\n",
    "\n",
    "import matplotlib.pyplot as plt\n",
    "import numpy as np\n",
    "import pandas as pd\n",
    "from scipy.ndimage.filters import gaussian_filter1d"
   ]
  },
  {
   "cell_type": "code",
   "execution_count": 69,
   "metadata": {},
   "outputs": [],
   "source": [
    "data_dir = 'results'"
   ]
  },
  {
   "cell_type": "code",
   "execution_count": 70,
   "metadata": {},
   "outputs": [],
   "source": [
    "# get all pickled results\n",
    "paths = [join(data_dir, path) for path in os.listdir(data_dir) if 'all' not in path]"
   ]
  },
  {
   "cell_type": "code",
   "execution_count": 71,
   "metadata": {},
   "outputs": [
    {
     "data": {
      "text/plain": [
       "{'num_bits': 512,\n",
       " 'neural': {'num_pairs': 50,\n",
       "  'acc_train': 0.9975298663905235,\n",
       "  'acc_test': 0.9819235723486475,\n",
       "  'mae': 0.1318562328168192,\n",
       "  'model_name': 'get_base_model',\n",
       "  'plot_paths': ('save_dir/history_acc_50-512',\n",
       "   'save_dir/history_loss_50-512')},\n",
       " 'minhash': {'mae': 0.15748612479347002}}"
      ]
     },
     "execution_count": 71,
     "metadata": {},
     "output_type": "execute_result"
    }
   ],
   "source": [
    "with open(paths[0], 'rb') as f:\n",
    "    x = pickle.load(f)\n",
    "x"
   ]
  },
  {
   "cell_type": "code",
   "execution_count": 72,
   "metadata": {},
   "outputs": [],
   "source": [
    "# we need a dict with pairs then bit errors in net and sim\n",
    "result = defaultdict(lambda: dict())"
   ]
  },
  {
   "cell_type": "code",
   "execution_count": 73,
   "metadata": {},
   "outputs": [],
   "source": [
    "for filename in paths:\n",
    "    pairs, bits = re.findall('\\d+', filename)\n",
    "    \n",
    "    with open(filename, 'rb') as f:\n",
    "        data = pickle.load(f)\n",
    "    \n",
    "    result[pairs][bits] = {\n",
    "        'neural_mae': data['neural']['mae'],\n",
    "        'neural_acc': data['neural']['acc_test'],\n",
    "        'minhash_mae': data['minhash']['mae']\n",
    "    }\n"
   ]
  },
  {
   "cell_type": "code",
   "execution_count": 74,
   "metadata": {},
   "outputs": [
    {
     "data": {
      "text/plain": [
       "{'16': {'neural_mae': 0.2418747130603947,\n",
       "  'neural_acc': 0.9818806354658651,\n",
       "  'minhash_mae': 0.19637612530031867},\n",
       " '256': {'neural_mae': 0.14366641108769374,\n",
       "  'neural_acc': 0.991841992271361,\n",
       "  'minhash_mae': 0.17732180838722003},\n",
       " '64': {'neural_mae': 0.17951633428375116,\n",
       "  'neural_acc': 0.9815657649921282,\n",
       "  'minhash_mae': 0.17133320815766515},\n",
       " '32': {'neural_mae': 0.35666591311051243,\n",
       "  'neural_acc': 0.9667382281379705,\n",
       "  'minhash_mae': 0.0914501636014018},\n",
       " '128': {'neural_mae': 0.19441208515422503,\n",
       "  'neural_acc': 0.982825246887076,\n",
       "  'minhash_mae': 0.19442149598543135},\n",
       " '512': {'neural_mae': 0.20990369402233677,\n",
       "  'neural_acc': 0.9804494060397881,\n",
       "  'minhash_mae': 0.15748612479347004}}"
      ]
     },
     "execution_count": 74,
     "metadata": {},
     "output_type": "execute_result"
    }
   ],
   "source": [
    "result = dict(result)\n",
    "result['25']"
   ]
  },
  {
   "cell_type": "code",
   "execution_count": 75,
   "metadata": {},
   "outputs": [],
   "source": [
    "def plot_results(data, num_pairs, smooth=True):\n",
    "\n",
    "    x = sorted(data.keys(), key=int)\n",
    "    \n",
    "    plt.figure(int(num_pairs)+1)\n",
    "    mae_minhash = [data[num_bit]['minhash_mae'] for num_bit in x]\n",
    "    mae_neural = [data[num_bit]['neural_mae'] for num_bit in x]\n",
    "    \n",
    "    if smooth:\n",
    "        # smooth neural net curve\n",
    "        start, stop = mae_neural[0],  mae_neural[-1]\n",
    "        mae_neural = gaussian_filter1d(mae_neural, sigma=1).tolist()\n",
    "        mae_neural[0] = start\n",
    "        mae_neural[-1] = stop\n",
    "\n",
    "    plt.plot(x, mae_minhash, label='WeightedMinhash hashes')\n",
    "    plt.plot(x, mae_neural, label='Model hashes')\n",
    "    \n",
    "    plt.title(f'MAE for {num_pairs} pairs.')\n",
    "    plt.xlabel('Number of bits')\n",
    "    plt.ylabel('MAE in similarity')\n",
    "    plt.legend(loc='upper right')\n",
    "    plt.savefig('minhash_neural_curve.png')\n",
    "    \n",
    "    plt.show()\n",
    "    "
   ]
  },
  {
   "cell_type": "code",
   "execution_count": 76,
   "metadata": {},
   "outputs": [],
   "source": [
    "# sorted_pairs = sorted(result.keys(), key=int)\n",
    "# for num_pairs in sorted_pairs:\n",
    "#     plot_results(result[num_pairs], num_pairs)"
   ]
  },
  {
   "cell_type": "code",
   "execution_count": 77,
   "metadata": {},
   "outputs": [],
   "source": [
    "min_val = {\n",
    "    'mae_neural': {'val': 1, 'num_bit': None, 'num_pairs': None},\n",
    "    'mae_minhash': {'val': 1, 'num_bit': None, 'num_pairs': None}\n",
    "}"
   ]
  },
  {
   "cell_type": "code",
   "execution_count": 78,
   "metadata": {},
   "outputs": [],
   "source": [
    "for num_pairs in result.keys():\n",
    "    for num_bit in result[num_pairs].keys():\n",
    "        if result[num_pairs][num_bit]['neural_mae'] < min_val['mae_neural']['val']:\n",
    "            min_val['mae_neural']['val'] = result[num_pairs][num_bit]['neural_mae']\n",
    "            min_val['mae_neural']['num_bit'] = num_bit\n",
    "            min_val['mae_neural']['num_pairs'] = num_pairs\n",
    "        \n",
    "        if result[num_pairs][num_bit]['minhash_mae'] < min_val['mae_minhash']['val']:\n",
    "            min_val['mae_minhash']['val'] = result[num_pairs][num_bit]['minhash_mae']\n",
    "            min_val['mae_minhash']['num_bit'] = num_bit\n",
    "            min_val['mae_minhash']['num_pairs'] = num_pairs"
   ]
  },
  {
   "cell_type": "code",
   "execution_count": 79,
   "metadata": {},
   "outputs": [
    {
     "data": {
      "text/plain": [
       "{'mae_neural': {'val': 0.1318562328168192,\n",
       "  'num_bit': '512',\n",
       "  'num_pairs': '50'},\n",
       " 'mae_minhash': {'val': 0.0914501636014018,\n",
       "  'num_bit': '32',\n",
       "  'num_pairs': '50'}}"
      ]
     },
     "execution_count": 79,
     "metadata": {},
     "output_type": "execute_result"
    }
   ],
   "source": [
    "min_val"
   ]
  },
  {
   "cell_type": "code",
   "execution_count": 80,
   "metadata": {},
   "outputs": [
    {
     "data": {
      "image/png": "[encoded data removed]",
      "text/plain": [
       "<Figure size 432x288 with 1 Axes>"
      ]
     },
     "metadata": {
      "needs_background": "light"
     },
     "output_type": "display_data"
    }
   ],
   "source": [
    "plot_results(result['50'], 50)"
   ]
  },
  {
   "cell_type": "code",
   "execution_count": 14,
   "metadata": {},
   "outputs": [
    {
     "data": {
      "text/plain": [
       "{'neural_mae': 0.15785976638156296,\n",
       " 'neural_acc': 0.9785888077858881,\n",
       " 'minhash_mae': 0.0914501636014018}"
      ]
     },
     "execution_count": 14,
     "metadata": {},
     "output_type": "execute_result"
    }
   ],
   "source": [
    "result['50']['32']"
   ]
  },
  {
   "cell_type": "code",
   "execution_count": 15,
   "metadata": {},
   "outputs": [
    {
     "data": {
      "text/plain": [
       "{'neural_mae': 0.1318562328168192,\n",
       " 'neural_acc': 0.9819235723486475,\n",
       " 'minhash_mae': 0.15748612479347002}"
      ]
     },
     "execution_count": 15,
     "metadata": {},
     "output_type": "execute_result"
    }
   ],
   "source": [
    "result['50']['512']"
   ]
  },
  {
   "cell_type": "code",
   "execution_count": null,
   "metadata": {},
   "outputs": [],
   "source": []
  }
 ],
 "metadata": {
  "kernelspec": {
   "display_name": "Python 3",
   "language": "python",
   "name": "python3"
  },
  "language_info": {
   "codemirror_mode": {
    "name": "ipython",
    "version": 3
   },
   "file_extension": ".py",
   "mimetype": "text/x-python",
   "name": "python",
   "nbconvert_exporter": "python",
   "pygments_lexer": "ipython3",
   "version": "3.6.7"
  }
 },
 "nbformat": 4,
 "nbformat_minor": 2
}
