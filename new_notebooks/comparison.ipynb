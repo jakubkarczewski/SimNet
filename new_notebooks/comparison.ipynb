{
 "cells": [
  {
   "cell_type": "markdown",
   "metadata": {},
   "source": [
    "This notebook is used for comparison of how much similarity is preserved by each method\n",
    "\n",
    "We will use cosine similarity of our initial dataset as as ground truth"
   ]
  },
  {
   "cell_type": "code",
   "execution_count": 132,
   "metadata": {},
   "outputs": [],
   "source": [
    "# test size\n",
    "N = 100000"
   ]
  },
  {
   "cell_type": "code",
   "execution_count": 133,
   "metadata": {},
   "outputs": [],
   "source": [
    "from random import sample\n",
    "from time import time\n",
    "from pickle import dump, load\n",
    "\n",
    "\n",
    "from IPython.display import clear_output\n",
    "import pandas as pd\n",
    "import numpy as np\n",
    "import matplotlib.pyplot as plt\n",
    "from sklearn.metrics.pairwise import cosine_similarity\n",
    "from sklearn.metrics import jaccard_similarity_score\n",
    "from datasketch import WeightedMinHash, WeightedMinHashGenerator\n",
    "from scipy.stats import describe"
   ]
  },
  {
   "cell_type": "code",
   "execution_count": 134,
   "metadata": {},
   "outputs": [],
   "source": [
    "df = pd.read_csv('./dataset.csv', index_col=0)\n",
    "df_h = pd.read_csv('./neural_hashes.csv', index_col=0)\n",
    "with open('./sims.pkl', 'rb') as f:\n",
    "    sims_train_set = load(f)"
   ]
  },
  {
   "cell_type": "code",
   "execution_count": 135,
   "metadata": {},
   "outputs": [],
   "source": [
    "# test on data that has not been used during training\n",
    "training_pairs = set()\n",
    "for movie_name in sims_train_set:\n",
    "    for pair_type in sims_train_set[movie_name]:\n",
    "        for movie_subname in sims_train_set[movie_name][pair_type]:\n",
    "            # for sake of bidirectionality\n",
    "            training_pairs.add((movie_name, movie_subname))\n",
    "            training_pairs.add((movie_subname, movie_name))"
   ]
  },
  {
   "cell_type": "code",
   "execution_count": 136,
   "metadata": {},
   "outputs": [],
   "source": [
    "# generate combinations of movie titles for testing\n",
    "titles = set(df.index.values)\n",
    "\n",
    "# genrate weighted minhash gen\n",
    "wmg = WeightedMinHashGenerator(len(df.columns))"
   ]
  },
  {
   "cell_type": "code",
   "execution_count": 137,
   "metadata": {},
   "outputs": [],
   "source": [
    "# generate random, shuffled combinations (can't use itertools.combinations for this)\n",
    "combs = set()\n",
    "while len(combs) < N:\n",
    "    pair = tuple(sample(titles, 2))\n",
    "    if pair not in training_pairs:\n",
    "        combs.add(pair)"
   ]
  },
  {
   "cell_type": "code",
   "execution_count": 138,
   "metadata": {},
   "outputs": [
    {
     "name": "stdout",
     "output_type": "stream",
     "text": [
      "Completed 99900/100000 samples.\n",
      "Computing similarity took 1736.6586725711823 seconds.\n"
     ]
    }
   ],
   "source": [
    "# get similarity score for each representation\n",
    "gt_cos_arr = np.zeros((N,))\n",
    "jacc_minhash_arr = np.zeros((N,))\n",
    "nh_cos_arr = np.zeros((N,))\n",
    "nh_jacc_arr = np.zeros((N,))\n",
    "\n",
    "start = time()\n",
    "for i, comb in enumerate(combs):        \n",
    "    title_x, title_y = comb\n",
    "    arr_x = df.loc[title_x].values\n",
    "    arr_y = df.loc[title_y].values\n",
    "    \n",
    "    # ground truth\n",
    "    gt_cos_arr[i] = cosine_similarity(arr_x.reshape(1, -1), arr_y.reshape(1, -1))[0][0]\n",
    "    \n",
    "    # minhash from datasketch\n",
    "    m_x = wmg.minhash(arr_x)\n",
    "    m_y = wmg.minhash(arr_y)\n",
    "    jacc_minhash_arr[i] = m_x.jaccard(m_y)\n",
    "    \n",
    "    # neural hashes\n",
    "    hash_x = df_h.loc[title_x].values\n",
    "    hash_y = df_h.loc[title_y].values\n",
    "    nh_cos_arr[i] = cosine_similarity(hash_x.reshape(1, -1), hash_y.reshape(1, -1))[0][0]\n",
    "    \n",
    "    nh_jacc_arr[i] = jaccard_similarity_score(hash_x.reshape(1, -1), hash_y.reshape(1, -1))\n",
    "    \n",
    "    if i % 100 == 0:\n",
    "        clear_output()\n",
    "        print(f'Completed {i}/{N} samples.')\n",
    "    \n",
    "print(f'Computing similarity took {time() - start} seconds.')"
   ]
  },
  {
   "cell_type": "code",
   "execution_count": 139,
   "metadata": {},
   "outputs": [],
   "source": [
    "# serialize results\n",
    "filenames = ('sim_gt.npy', 'sim_minhash.npy', 'sim_nh_cos.npy', 'sim_nh_jacc.npy')\n",
    "results = (gt_cos_arr, jacc_minhash_arr, nh_cos_arr, nh_jacc_arr)\n",
    "\n",
    "for filename, obj in zip(filenames, results):\n",
    "    with open(filename, 'wb') as f:\n",
    "        np.save(f, obj)"
   ]
  },
  {
   "cell_type": "code",
   "execution_count": 143,
   "metadata": {},
   "outputs": [
    {
     "name": "stdout",
     "output_type": "stream",
     "text": [
      "MSE for neural hashes using cosine is: 0.01762607692681176\n",
      "MAE for neural hashes using cosine is: 0.10386228439618436\n",
      "Diff result: DescribeResult(nobs=100000, minmax=(-0.5881907185284916, 0.44559710970232136), mean=-0.01624239125645695, variance=0.0173624352774367, skewness=-0.3100636413185194, kurtosis=0.12109972253118872)\n",
      "\n",
      "MSE for neural hashes using jaccard is: 0.04063723325228729\n",
      "MAE for neural hashes using jaccard is: 0.17431659047218073\n",
      "Diff result: DescribeResult(nobs=100000, minmax=(-0.5782836688711904, 0.594207960271134), mean=0.1338081685842176, variance=0.022732834600770902, skewness=-0.6131884373753338, kurtosis=0.34026608610372344)\n",
      "\n",
      "MSE for WeightedMinhash from Datasketch is: 0.040800793674588484\n",
      "MAE for WeightedMinhash from Datasketch is: 0.1966777093038213Diff result: DescribeResult(nobs=100000, minmax=(-0.02244967320794211, 0.39274701678326784), mean=0.19667554634235423, variance=0.0021195443409683574, skewness=-0.019812167378962017, kurtosis=0.14300036981365816)\n",
      "\n",
      "\n"
     ]
    }
   ],
   "source": [
    "result = ''\n",
    "diff_hash_cos = gt_cos_arr - nh_cos_arr\n",
    "mse_hash_cos = (np.square(diff_hash_cos)).mean()\n",
    "result += f'MSE for neural hashes using cosine is: {mse_hash_cos}' + '\\n'\n",
    "mae_hash_cos = (np.abs(diff_hash_cos)).mean()\n",
    "result += f'MAE for neural hashes using cosine is: {mae_hash_cos}' + '\\n'\n",
    "result += 'Diff result: ' + str(describe(diff_hash_cos)) + 2 * '\\n'\n",
    "\n",
    "diff_hash_jacc = gt_cos_arr - nh_jacc_arr\n",
    "mse_hash_jacc = (np.square(diff_hash_jacc)).mean()\n",
    "result += f'MSE for neural hashes using jaccard is: {mse_hash_jacc}' + '\\n'\n",
    "mae_hash_jacc = (np.abs(diff_hash_jacc)).mean()\n",
    "result += f'MAE for neural hashes using jaccard is: {mae_hash_jacc}' + '\\n'\n",
    "result += 'Diff result: ' + str(describe(diff_hash_jacc)) + 2 * '\\n'\n",
    "\n",
    "diff_minhash = gt_cos_arr - jacc_minhash_arr\n",
    "mse_minhash = (np.square(diff_minhash)).mean()\n",
    "result += f'MSE for WeightedMinhash from Datasketch is: {mse_minhash}' + '\\n'\n",
    "mae_minhash = (np.abs(diff_minhash)).mean()\n",
    "result += f'MAE for WeightedMinhash from Datasketch is: {mae_minhash}'\n",
    "result += 'Diff result: ' + str(describe(diff_minhash)) + 2 * '\\n'\n",
    "print(result)\n"
   ]
  },
  {
   "cell_type": "code",
   "execution_count": 163,
   "metadata": {},
   "outputs": [
    {
     "data": {
      "image/png": "[encoded data removed]",
      "text/plain": [
       "<Figure size 432x288 with 1 Axes>"
      ]
     },
     "metadata": {
      "needs_background": "light"
     },
     "output_type": "display_data"
    }
   ],
   "source": [
    "# plot simple bar chart of MSE\n",
    "objects = ('Neural_cosine', 'Neural_jacc', 'Minhash')\n",
    "y_pos = np.arange(len(objects))\n",
    "mse_values = [mse_hash_cos, mse_hash_jacc, mse_minhash]\n",
    "mae_values = [mae_hash_cos, mae_hash_jacc, mae_minhash]\n",
    " \n",
    "p1 = plt.bar(y_pos, mse_values)\n",
    "p2 = plt.bar(y_pos, mae_values, bottom=mse_values)\n",
    "plt.xticks(y_pos, objects)\n",
    "plt.ylabel('Error')\n",
    "plt.title('Error of each representation')\n",
    "plt.legend((p1[0], p2[0]), ('MSE', 'MAE'))\n",
    "plt.savefig('errors.png')\n",
    "plt.show()"
   ]
  },
  {
   "cell_type": "code",
   "execution_count": null,
   "metadata": {},
   "outputs": [],
   "source": []
  }
 ],
 "metadata": {
  "kernelspec": {
   "display_name": "Python 3",
   "language": "python",
   "name": "python3"
  },
  "language_info": {
   "codemirror_mode": {
    "name": "ipython",
    "version": 3
   },
   "file_extension": ".py",
   "mimetype": "text/x-python",
   "name": "python",
   "nbconvert_exporter": "python",
   "pygments_lexer": "ipython3",
   "version": "3.6.7"
  }
 },
 "nbformat": 4,
 "nbformat_minor": 2
}
